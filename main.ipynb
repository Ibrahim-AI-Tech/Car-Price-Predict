{
 "cells": [
  {
   "cell_type": "markdown",
   "id": "a44095623a1d341e",
   "metadata": {},
   "source": [
    "## import for libelaries"
   ]
  },
  {
   "cell_type": "code",
   "execution_count": 26,
   "id": "initial_id",
   "metadata": {
    "ExecuteTime": {
     "end_time": "2024-08-14T09:54:21.118643Z",
     "start_time": "2024-08-14T09:54:21.114594Z"
    },
    "collapsed": true
   },
   "outputs": [],
   "source": [
    "import pandas as pd\n",
    "import numpy as np\n",
    "import seaborn as sns\n",
    "import matplotlib.pyplot as plt\n",
    "from sklearn.model_selection import train_test_split\n",
    "from sklearn.linear_model import LinearRegression\n",
    "from sklearn.metrics import r2_score,mean_squared_error,mean_absolute_error\n",
    "\n",
    "from sklearn.preprocessing import StandardScaler"
   ]
  },
  {
   "cell_type": "markdown",
   "id": "6117824b7f6af652",
   "metadata": {},
   "source": [
    "## DataSet"
   ]
  },
  {
   "cell_type": "code",
   "execution_count": 27,
   "id": "1d4b5bcfa51a7e8e",
   "metadata": {
    "ExecuteTime": {
     "end_time": "2024-08-14T09:18:00.523448Z",
     "start_time": "2024-08-14T09:18:00.485854Z"
    }
   },
   "outputs": [
    {
     "data": {
      "text/html": [
       "<div>\n",
       "<style scoped>\n",
       "    .dataframe tbody tr th:only-of-type {\n",
       "        vertical-align: middle;\n",
       "    }\n",
       "\n",
       "    .dataframe tbody tr th {\n",
       "        vertical-align: top;\n",
       "    }\n",
       "\n",
       "    .dataframe thead th {\n",
       "        text-align: right;\n",
       "    }\n",
       "</style>\n",
       "<table border=\"1\" class=\"dataframe\">\n",
       "  <thead>\n",
       "    <tr style=\"text-align: right;\">\n",
       "      <th></th>\n",
       "      <th>Make</th>\n",
       "      <th>Model</th>\n",
       "      <th>Year</th>\n",
       "      <th>Engine Fuel Type</th>\n",
       "      <th>Engine HP</th>\n",
       "      <th>Engine Cylinders</th>\n",
       "      <th>Transmission Type</th>\n",
       "      <th>Driven_Wheels</th>\n",
       "      <th>Number of Doors</th>\n",
       "      <th>Market Category</th>\n",
       "      <th>Vehicle Size</th>\n",
       "      <th>Vehicle Style</th>\n",
       "      <th>highway MPG</th>\n",
       "      <th>city mpg</th>\n",
       "      <th>Popularity</th>\n",
       "      <th>MSRP</th>\n",
       "    </tr>\n",
       "  </thead>\n",
       "  <tbody>\n",
       "    <tr>\n",
       "      <th>0</th>\n",
       "      <td>BMW</td>\n",
       "      <td>1 Series M</td>\n",
       "      <td>2011</td>\n",
       "      <td>premium unleaded (required)</td>\n",
       "      <td>335.0</td>\n",
       "      <td>6.0</td>\n",
       "      <td>MANUAL</td>\n",
       "      <td>rear wheel drive</td>\n",
       "      <td>2.0</td>\n",
       "      <td>Factory Tuner,Luxury,High-Performance</td>\n",
       "      <td>Compact</td>\n",
       "      <td>Coupe</td>\n",
       "      <td>26</td>\n",
       "      <td>19</td>\n",
       "      <td>3916</td>\n",
       "      <td>46135</td>\n",
       "    </tr>\n",
       "    <tr>\n",
       "      <th>1</th>\n",
       "      <td>BMW</td>\n",
       "      <td>1 Series</td>\n",
       "      <td>2011</td>\n",
       "      <td>premium unleaded (required)</td>\n",
       "      <td>300.0</td>\n",
       "      <td>6.0</td>\n",
       "      <td>MANUAL</td>\n",
       "      <td>rear wheel drive</td>\n",
       "      <td>2.0</td>\n",
       "      <td>Luxury,Performance</td>\n",
       "      <td>Compact</td>\n",
       "      <td>Convertible</td>\n",
       "      <td>28</td>\n",
       "      <td>19</td>\n",
       "      <td>3916</td>\n",
       "      <td>40650</td>\n",
       "    </tr>\n",
       "    <tr>\n",
       "      <th>2</th>\n",
       "      <td>BMW</td>\n",
       "      <td>1 Series</td>\n",
       "      <td>2011</td>\n",
       "      <td>premium unleaded (required)</td>\n",
       "      <td>300.0</td>\n",
       "      <td>6.0</td>\n",
       "      <td>MANUAL</td>\n",
       "      <td>rear wheel drive</td>\n",
       "      <td>2.0</td>\n",
       "      <td>Luxury,High-Performance</td>\n",
       "      <td>Compact</td>\n",
       "      <td>Coupe</td>\n",
       "      <td>28</td>\n",
       "      <td>20</td>\n",
       "      <td>3916</td>\n",
       "      <td>36350</td>\n",
       "    </tr>\n",
       "    <tr>\n",
       "      <th>3</th>\n",
       "      <td>BMW</td>\n",
       "      <td>1 Series</td>\n",
       "      <td>2011</td>\n",
       "      <td>premium unleaded (required)</td>\n",
       "      <td>230.0</td>\n",
       "      <td>6.0</td>\n",
       "      <td>MANUAL</td>\n",
       "      <td>rear wheel drive</td>\n",
       "      <td>2.0</td>\n",
       "      <td>Luxury,Performance</td>\n",
       "      <td>Compact</td>\n",
       "      <td>Coupe</td>\n",
       "      <td>28</td>\n",
       "      <td>18</td>\n",
       "      <td>3916</td>\n",
       "      <td>29450</td>\n",
       "    </tr>\n",
       "    <tr>\n",
       "      <th>4</th>\n",
       "      <td>BMW</td>\n",
       "      <td>1 Series</td>\n",
       "      <td>2011</td>\n",
       "      <td>premium unleaded (required)</td>\n",
       "      <td>230.0</td>\n",
       "      <td>6.0</td>\n",
       "      <td>MANUAL</td>\n",
       "      <td>rear wheel drive</td>\n",
       "      <td>2.0</td>\n",
       "      <td>Luxury</td>\n",
       "      <td>Compact</td>\n",
       "      <td>Convertible</td>\n",
       "      <td>28</td>\n",
       "      <td>18</td>\n",
       "      <td>3916</td>\n",
       "      <td>34500</td>\n",
       "    </tr>\n",
       "  </tbody>\n",
       "</table>\n",
       "</div>"
      ],
      "text/plain": [
       "  Make       Model  Year             Engine Fuel Type  Engine HP  \\\n",
       "0  BMW  1 Series M  2011  premium unleaded (required)      335.0   \n",
       "1  BMW    1 Series  2011  premium unleaded (required)      300.0   \n",
       "2  BMW    1 Series  2011  premium unleaded (required)      300.0   \n",
       "3  BMW    1 Series  2011  premium unleaded (required)      230.0   \n",
       "4  BMW    1 Series  2011  premium unleaded (required)      230.0   \n",
       "\n",
       "   Engine Cylinders Transmission Type     Driven_Wheels  Number of Doors  \\\n",
       "0               6.0            MANUAL  rear wheel drive              2.0   \n",
       "1               6.0            MANUAL  rear wheel drive              2.0   \n",
       "2               6.0            MANUAL  rear wheel drive              2.0   \n",
       "3               6.0            MANUAL  rear wheel drive              2.0   \n",
       "4               6.0            MANUAL  rear wheel drive              2.0   \n",
       "\n",
       "                         Market Category Vehicle Size Vehicle Style  \\\n",
       "0  Factory Tuner,Luxury,High-Performance      Compact         Coupe   \n",
       "1                     Luxury,Performance      Compact   Convertible   \n",
       "2                Luxury,High-Performance      Compact         Coupe   \n",
       "3                     Luxury,Performance      Compact         Coupe   \n",
       "4                                 Luxury      Compact   Convertible   \n",
       "\n",
       "   highway MPG  city mpg  Popularity   MSRP  \n",
       "0           26        19        3916  46135  \n",
       "1           28        19        3916  40650  \n",
       "2           28        20        3916  36350  \n",
       "3           28        18        3916  29450  \n",
       "4           28        18        3916  34500  "
      ]
     },
     "execution_count": 27,
     "metadata": {},
     "output_type": "execute_result"
    }
   ],
   "source": [
    "ds = pd.read_csv('./car_price_predict.csv')\n",
    "\n",
    "# ds.shape\n",
    "ds.head()\n",
    "# ds.info()\n",
    "# ds.value_counts([\"Make\"]).nlargest(7)"
   ]
  },
  {
   "cell_type": "markdown",
   "id": "611892010631d4cb",
   "metadata": {},
   "source": [
    "## Clean Data"
   ]
  },
  {
   "cell_type": "code",
   "execution_count": 28,
   "id": "9f41c361cb1980b4",
   "metadata": {
    "ExecuteTime": {
     "end_time": "2024-08-14T09:18:00.582235Z",
     "start_time": "2024-08-14T09:18:00.524453Z"
    }
   },
   "outputs": [
    {
     "data": {
      "text/html": [
       "<div>\n",
       "<style scoped>\n",
       "    .dataframe tbody tr th:only-of-type {\n",
       "        vertical-align: middle;\n",
       "    }\n",
       "\n",
       "    .dataframe tbody tr th {\n",
       "        vertical-align: top;\n",
       "    }\n",
       "\n",
       "    .dataframe thead th {\n",
       "        text-align: right;\n",
       "    }\n",
       "</style>\n",
       "<table border=\"1\" class=\"dataframe\">\n",
       "  <thead>\n",
       "    <tr style=\"text-align: right;\">\n",
       "      <th></th>\n",
       "      <th>make</th>\n",
       "      <th>model</th>\n",
       "      <th>engine_fuel_type</th>\n",
       "      <th>transmission_type</th>\n",
       "      <th>driven_wheels</th>\n",
       "      <th>market_category</th>\n",
       "      <th>vehicle_size</th>\n",
       "      <th>vehicle_style</th>\n",
       "    </tr>\n",
       "  </thead>\n",
       "  <tbody>\n",
       "    <tr>\n",
       "      <th>count</th>\n",
       "      <td>11914</td>\n",
       "      <td>11914</td>\n",
       "      <td>11911</td>\n",
       "      <td>11914</td>\n",
       "      <td>11914</td>\n",
       "      <td>8172</td>\n",
       "      <td>11914</td>\n",
       "      <td>11914</td>\n",
       "    </tr>\n",
       "    <tr>\n",
       "      <th>unique</th>\n",
       "      <td>48</td>\n",
       "      <td>914</td>\n",
       "      <td>10</td>\n",
       "      <td>5</td>\n",
       "      <td>4</td>\n",
       "      <td>71</td>\n",
       "      <td>3</td>\n",
       "      <td>16</td>\n",
       "    </tr>\n",
       "    <tr>\n",
       "      <th>top</th>\n",
       "      <td>chevrolet</td>\n",
       "      <td>silverado_1500</td>\n",
       "      <td>regular_unleaded</td>\n",
       "      <td>automatic</td>\n",
       "      <td>front_wheel_drive</td>\n",
       "      <td>crossover</td>\n",
       "      <td>compact</td>\n",
       "      <td>sedan</td>\n",
       "    </tr>\n",
       "    <tr>\n",
       "      <th>freq</th>\n",
       "      <td>1123</td>\n",
       "      <td>156</td>\n",
       "      <td>7172</td>\n",
       "      <td>8266</td>\n",
       "      <td>4787</td>\n",
       "      <td>1110</td>\n",
       "      <td>4764</td>\n",
       "      <td>3048</td>\n",
       "    </tr>\n",
       "  </tbody>\n",
       "</table>\n",
       "</div>"
      ],
      "text/plain": [
       "             make           model  engine_fuel_type transmission_type  \\\n",
       "count       11914           11914             11911             11914   \n",
       "unique         48             914                10                 5   \n",
       "top     chevrolet  silverado_1500  regular_unleaded         automatic   \n",
       "freq         1123             156              7172              8266   \n",
       "\n",
       "            driven_wheels market_category vehicle_size vehicle_style  \n",
       "count               11914            8172        11914         11914  \n",
       "unique                  4              71            3            16  \n",
       "top     front_wheel_drive       crossover      compact         sedan  \n",
       "freq                 4787            1110         4764          3048  "
      ]
     },
     "execution_count": 28,
     "metadata": {},
     "output_type": "execute_result"
    }
   ],
   "source": [
    "\"\"\" change the column value \"\"\"\n",
    "ds.columns = ds.columns.str.lower().str.replace(' ', '_')\n",
    "# ds.head()\n",
    "\n",
    "\"\"\" change in the rows value \"\"\"\n",
    "\n",
    "column = list(ds.dtypes[ds.dtypes == 'object'].index)\n",
    "\n",
    "for col in column:\n",
    "    ds[col] = ds[col].str.lower().str.replace(' ', '_')\n",
    "\n",
    "# ds.head()\n",
    "\n",
    "\"\"\" change in the columns name \"\"\"\n",
    "\n",
    "ds.rename(columns={'msrp': 'price'}, inplace=True)\n",
    "ds.head()\n",
    "\n",
    "ds.describe()\n",
    "ds.describe(include='O')"
   ]
  },
  {
   "cell_type": "markdown",
   "id": "bdbd834ca5b9ac45",
   "metadata": {},
   "source": [
    "## Do formate for the price"
   ]
  },
  {
   "cell_type": "code",
   "execution_count": 29,
   "id": "7c1f063ad622f9de",
   "metadata": {
    "ExecuteTime": {
     "end_time": "2024-08-14T09:18:01.453925Z",
     "start_time": "2024-08-14T09:18:00.583240Z"
    }
   },
   "outputs": [
    {
     "data": {
      "text/plain": [
       "<Axes: xlabel='price', ylabel='Count'>"
      ]
     },
     "execution_count": 29,
     "metadata": {},
     "output_type": "execute_result"
    },
    {
     "data": {
      "image/png": "[encoded data removed]",
      "text/plain": [
       "<Figure size 640x480 with 1 Axes>"
      ]
     },
     "metadata": {},
     "output_type": "display_data"
    }
   ],
   "source": [
    "\"\"\" decrease the value of price to decrease the skew \"\"\"\n",
    "sns.histplot(x='price', data=ds)\n",
    "ds[\"log_price\"] = np.log1p(ds.price)\n",
    "\n",
    "ds.head()\n",
    "sns.histplot(ds[\"log_price\"], bins=20)"
   ]
  },
  {
   "cell_type": "markdown",
   "id": "6444a7f0047c0a6d",
   "metadata": {},
   "source": [
    "## Data Null"
   ]
  },
  {
   "cell_type": "code",
   "execution_count": 30,
   "id": "22626000b462e381",
   "metadata": {
    "ExecuteTime": {
     "end_time": "2024-08-14T09:18:01.462783Z",
     "start_time": "2024-08-14T09:18:01.454930Z"
    }
   },
   "outputs": [
    {
     "data": {
      "text/plain": [
       "make                    0\n",
       "model                   0\n",
       "year                    0\n",
       "engine_fuel_type        3\n",
       "engine_hp              69\n",
       "engine_cylinders       30\n",
       "transmission_type       0\n",
       "driven_wheels           0\n",
       "number_of_doors         6\n",
       "market_category      3742\n",
       "vehicle_size            0\n",
       "vehicle_style           0\n",
       "highway_mpg             0\n",
       "city_mpg                0\n",
       "popularity              0\n",
       "price                   0\n",
       "log_price               0\n",
       "dtype: int64"
      ]
     },
     "execution_count": 30,
     "metadata": {},
     "output_type": "execute_result"
    }
   ],
   "source": [
    "ds.isnull().sum()"
   ]
  },
  {
   "cell_type": "markdown",
   "id": "de75f63defc738bb",
   "metadata": {},
   "source": [
    "## Take the part of data to do test on it"
   ]
  },
  {
   "cell_type": "code",
   "execution_count": 31,
   "id": "81b7757a1d64c39f",
   "metadata": {
    "ExecuteTime": {
     "end_time": "2024-08-14T09:18:01.481748Z",
     "start_time": "2024-08-14T09:18:01.476295Z"
    }
   },
   "outputs": [
    {
     "data": {
      "text/plain": [
       "engine_hp           69\n",
       "engine_cylinders    30\n",
       "highway_mpg          0\n",
       "city_mpg             0\n",
       "popularity           0\n",
       "log_price            0\n",
       "dtype: int64"
      ]
     },
     "execution_count": 31,
     "metadata": {},
     "output_type": "execute_result"
    }
   ],
   "source": [
    "bases = [\"engine_hp\", \"engine_cylinders\", \"highway_mpg\", \"city_mpg\", \"popularity\",\"log_price\"]\n",
    "\n",
    "# ds.info()\n",
    "\n",
    "# ds[bases]\n",
    "\n",
    "ds[bases].isnull().sum()"
   ]
  },
  {
   "cell_type": "markdown",
   "id": "5adae3f7617f2684",
   "metadata": {},
   "source": [
    "## Missing Values"
   ]
  },
  {
   "cell_type": "code",
   "execution_count": 32,
   "id": "1b49e081e80d2dfb",
   "metadata": {
    "ExecuteTime": {
     "end_time": "2024-08-14T09:18:01.485440Z",
     "start_time": "2024-08-14T09:18:01.482753Z"
    }
   },
   "outputs": [],
   "source": [
    "def preper_data(ds):\n",
    "    x = ds[bases].fillna(ds[bases].mean())\n",
    "    return x.values"
   ]
  },
  {
   "cell_type": "code",
   "execution_count": 33,
   "id": "6a53086d0d5250c2",
   "metadata": {
    "ExecuteTime": {
     "end_time": "2024-08-14T10:10:31.322966Z",
     "start_time": "2024-08-14T10:10:31.128629Z"
    }
   },
   "outputs": [
    {
     "data": {
      "text/plain": [
       "<Axes: >"
      ]
     },
     "execution_count": 33,
     "metadata": {},
     "output_type": "execute_result"
    },
    {
     "data": {
      "image/png": "[encoded data removed]",
      "text/plain": [
       "<Figure size 1500x800 with 2 Axes>"
      ]
     },
     "metadata": {},
     "output_type": "display_data"
    }
   ],
   "source": [
    "plt.figure(figsize=(15, 8))\n",
    "sns.heatmap(ds[bases].corr(), annot=True)"
   ]
  },
  {
   "cell_type": "markdown",
   "id": "8d1dc65163efc003",
   "metadata": {},
   "source": [
    "## Linear Regression For predict"
   ]
  },
  {
   "cell_type": "code",
   "execution_count": 37,
   "id": "d624de792cd0d07",
   "metadata": {
    "ExecuteTime": {
     "end_time": "2024-08-14T09:46:58.657134Z",
     "start_time": "2024-08-14T09:46:58.652747Z"
    }
   },
   "outputs": [],
   "source": [
    "def predict_train(x_train,y_train):\n",
    "    \"\"\" accuracy for train data\"\"\"\n",
    "    y_pred = lr.predict(x_train)\n",
    "    train_accuracy_r2 = r2_score(y_train,y_pred)\n",
    "    MSE = mean_squared_error(y_train,y_pred)\n",
    "    MAE = mean_absolute_error(y_train,y_pred)\n",
    "    \n",
    "    # print(y_pred)\n",
    "    # print(y_train)\n",
    "    print(\"r2_score train=\",train_accuracy_r2)\n",
    "    print(\"mean_squared_error train=\",MSE)\n",
    "    print(\"mean_absolute_error train=\",MAE)\n",
    "    \n",
    "def predict_test(x_test,y_test):\n",
    "    \"\"\" accuracy for train data\"\"\"\n",
    "    y_pred = lr.predict(x_test)\n",
    "    train_accuracy_r2 = r2_score(y_test,y_pred)\n",
    "    MSE = mean_squared_error(y_test,y_pred)\n",
    "    MAE = mean_absolute_error(y_test,y_pred)\n",
    "    \n",
    "    # print(y_pred)\n",
    "    # print(y_train)\n",
    "    print(\"r2_score test=\",train_accuracy_r2)\n",
    "    print(\"mean_squared_error test=\",MSE)\n",
    "    print(\"mean_absolute_error test=\",MAE)"
   ]
  },
  {
   "cell_type": "markdown",
   "id": "1ad437cdacf902b7",
   "metadata": {},
   "source": [
    "# Training data for string or object\n",
    "### categorical data\n",
    "##### one hot encoding"
   ]
  },
  {
   "cell_type": "code",
   "execution_count": 38,
   "id": "afdbcc66b13af052",
   "metadata": {
    "ExecuteTime": {
     "end_time": "2024-08-14T09:51:07.685122Z",
     "start_time": "2024-08-14T09:51:07.680522Z"
    }
   },
   "outputs": [
    {
     "data": {
      "text/plain": [
       "make\n",
       "chevrolet     1123\n",
       "ford           881\n",
       "volkswagen     809\n",
       "toyota         746\n",
       "dodge          626\n",
       "nissan         558\n",
       "Name: count, dtype: int64"
      ]
     },
     "execution_count": 38,
     "metadata": {},
     "output_type": "execute_result"
    }
   ],
   "source": [
    "ds.make.value_counts().head(6)"
   ]
  },
  {
   "cell_type": "code",
   "execution_count": 39,
   "id": "7beb1afbfaaf4e39",
   "metadata": {
    "ExecuteTime": {
     "end_time": "2024-08-14T10:22:54.333218Z",
     "start_time": "2024-08-14T10:22:54.299492Z"
    }
   },
   "outputs": [
    {
     "name": "stdout",
     "output_type": "stream",
     "text": [
      "r2_score train= 0.8067524058677554\n",
      "mean_squared_error train= 0.23934768184048105\n",
      "mean_absolute_error train= 0.3655945273358488\n",
      "################################################\n",
      "r2_score test= 0.7867127428697911\n",
      "mean_squared_error test= 0.24646182410075512\n",
      "mean_absolute_error test= 0.37375791699488853\n"
     ]
    }
   ],
   "source": [
    "def NewFutures(ds):\n",
    "  \n",
    "    ds=ds.copy()\n",
    "    features=bases.copy()\n",
    "    ds['age'] = 2017 - ds['year']\n",
    "    features.append('age')\n",
    "    \n",
    "    for i in [2,3,4]:\n",
    "        new_feature=(\"number_of_doors_%s\" %i)\n",
    "        ds[new_feature] = (ds[\"number_of_doors\"] == i).astype(int)\n",
    "        features.append(new_feature)\n",
    "    for i in [\"manual\",\"automatic\"]:\n",
    "        new_feature=(\"transmission_type_%s\" %i)\n",
    "        ds[new_feature] = (ds[\"transmission_type\"] == i).astype(int)\n",
    "        features.append(new_feature)\n",
    "\n",
    "    for i in [\"chevrolet\",\"ford\",\"volkswagen\",\"toyota\",\"dodge\",\"nissan\"]:\n",
    "        new_feature=(\"make_%s\" %i)\n",
    "        ds[new_feature] = (ds[\"make\"] == i).astype(int)\n",
    "        features.append(new_feature)\n",
    "        \n",
    "    \n",
    "    # print(ds[features].head())\n",
    "    \n",
    "    \n",
    "    ds_num=ds[features]\n",
    "    ds_num=ds_num.fillna(ds_num.mean())\n",
    "    return ds_num\n",
    "\n",
    "# print(number_of_doors_And_make(ds))\n",
    "\n",
    "new_ds=NewFutures(ds)\n",
    "# print(new_ds.shape)\n",
    "without_price=new_ds.drop(columns=[\"log_price\"])\n",
    "\n",
    "# print(new_ds.shape)\n",
    "# print(type(new_ds))\n",
    "\n",
    "\"\"\" to save a new data in the new file .csv\"\"\"\n",
    "# new_ds.to_csv('updated_data1.csv', index=False)\n",
    "\n",
    "x_train, x_test, y_train, y_test = train_test_split(without_price, new_ds['log_price'], test_size=0.2, shuffle=True)\n",
    "\n",
    "\n",
    "lr = LinearRegression()\n",
    "lr.fit(x_train, y_train)\n",
    "predict_train(x_train,y_train)\n",
    "print(\"################################################\")\n",
    "predict_test(x_test,y_test)"
   ]
  }
 ],
 "metadata": {
  "kernelspec": {
   "display_name": "Python 3",
   "language": "python",
   "name": "python3"
  },
  "language_info": {
   "codemirror_mode": {
    "name": "ipython",
    "version": 3
   },
   "file_extension": ".py",
   "mimetype": "text/x-python",
   "name": "python",
   "nbconvert_exporter": "python",
   "pygments_lexer": "ipython3",
   "version": "3.12.4"
  }
 },
 "nbformat": 4,
 "nbformat_minor": 5
}
